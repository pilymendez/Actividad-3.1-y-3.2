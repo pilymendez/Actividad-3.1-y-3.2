{
 "cells": [
  {
   "cell_type": "code",
   "execution_count": 203,
   "metadata": {},
   "outputs": [],
   "source": [
    "#Cargamos librerias\n",
    "import numpy as np\n",
    "import pandas as pd\n",
    "import matplotlib.pyplot as plt\n",
    "import scipy.special as special\n",
    "from scipy.optimize import curve_fit\n",
    "import seaborn as sns\n",
    "from sklearn.metrics import r2_score"
   ]
  },
  {
   "cell_type": "code",
   "execution_count": 204,
   "metadata": {},
   "outputs": [
    {
     "data": {
      "text/html": [
       "<div>\n",
       "<style scoped>\n",
       "    .dataframe tbody tr th:only-of-type {\n",
       "        vertical-align: middle;\n",
       "    }\n",
       "\n",
       "    .dataframe tbody tr th {\n",
       "        vertical-align: top;\n",
       "    }\n",
       "\n",
       "    .dataframe thead th {\n",
       "        text-align: right;\n",
       "    }\n",
       "</style>\n",
       "<table border=\"1\" class=\"dataframe\">\n",
       "  <thead>\n",
       "    <tr style=\"text-align: right;\">\n",
       "      <th></th>\n",
       "      <th>Unnamed: 0</th>\n",
       "      <th>name</th>\n",
       "      <th>host_name</th>\n",
       "      <th>host_since</th>\n",
       "      <th>host_location</th>\n",
       "      <th>host_about</th>\n",
       "      <th>host_response_time</th>\n",
       "      <th>host_is_superhost</th>\n",
       "      <th>host_neighbourhood</th>\n",
       "      <th>host_identity_verified</th>\n",
       "      <th>...</th>\n",
       "      <th>number_of_reviews_l30d</th>\n",
       "      <th>review_scores_rating</th>\n",
       "      <th>review_scores_cleanliness</th>\n",
       "      <th>review_scores_checkin</th>\n",
       "      <th>review_scores_location</th>\n",
       "      <th>calculated_host_listings_count</th>\n",
       "      <th>calculated_host_listings_count_entire_homes</th>\n",
       "      <th>calculated_host_listings_count_entire_homes.1</th>\n",
       "      <th>calculated_host_listings_count_shared_rooms</th>\n",
       "      <th>reviews_per_month</th>\n",
       "    </tr>\n",
       "  </thead>\n",
       "  <tbody>\n",
       "    <tr>\n",
       "      <th>0</th>\n",
       "      <td>0</td>\n",
       "      <td>Duplex avec vue, centre ville</td>\n",
       "      <td>Isabelle</td>\n",
       "      <td>2010-10-24</td>\n",
       "      <td>Lyon, France</td>\n",
       "      <td>I'm 47 years old. I enjoy books and arts. I'm ...</td>\n",
       "      <td>within a few hours</td>\n",
       "      <td>f</td>\n",
       "      <td>5th Arrondissement</td>\n",
       "      <td>t</td>\n",
       "      <td>...</td>\n",
       "      <td>0.0</td>\n",
       "      <td>4.70</td>\n",
       "      <td>4.71</td>\n",
       "      <td>4.78</td>\n",
       "      <td>4.86</td>\n",
       "      <td>1.0</td>\n",
       "      <td>1.0</td>\n",
       "      <td>1.0</td>\n",
       "      <td>0.0</td>\n",
       "      <td>0.33</td>\n",
       "    </tr>\n",
       "    <tr>\n",
       "      <th>1</th>\n",
       "      <td>1</td>\n",
       "      <td>Nice Flat in the center of Lyon</td>\n",
       "      <td>Clementine</td>\n",
       "      <td>2011-02-26</td>\n",
       "      <td>Lyon, France</td>\n",
       "      <td>Je travaille dans le cinéma et je voyage beauc...</td>\n",
       "      <td>within an hour</td>\n",
       "      <td>f</td>\n",
       "      <td>5th Arrondissement</td>\n",
       "      <td>t</td>\n",
       "      <td>...</td>\n",
       "      <td>1.0</td>\n",
       "      <td>4.75</td>\n",
       "      <td>4.80</td>\n",
       "      <td>4.96</td>\n",
       "      <td>4.88</td>\n",
       "      <td>1.0</td>\n",
       "      <td>1.0</td>\n",
       "      <td>1.0</td>\n",
       "      <td>0.0</td>\n",
       "      <td>0.15</td>\n",
       "    </tr>\n",
       "    <tr>\n",
       "      <th>2</th>\n",
       "      <td>2</td>\n",
       "      <td>Centre of old town,home sweet home</td>\n",
       "      <td>Polali</td>\n",
       "      <td>2011-06-03</td>\n",
       "      <td>Lyon, France</td>\n",
       "      <td>J'ai 34 ans , je suis animatrice auprès de per...</td>\n",
       "      <td>a few days or more</td>\n",
       "      <td>f</td>\n",
       "      <td>5th Arrondissement</td>\n",
       "      <td>t</td>\n",
       "      <td>...</td>\n",
       "      <td>0.0</td>\n",
       "      <td>4.48</td>\n",
       "      <td>4.27</td>\n",
       "      <td>4.72</td>\n",
       "      <td>4.86</td>\n",
       "      <td>1.0</td>\n",
       "      <td>1.0</td>\n",
       "      <td>1.0</td>\n",
       "      <td>0.0</td>\n",
       "      <td>0.82</td>\n",
       "    </tr>\n",
       "    <tr>\n",
       "      <th>3</th>\n",
       "      <td>3</td>\n",
       "      <td>Bel apartment, 2 rooms, Lyon center</td>\n",
       "      <td>Sandrine</td>\n",
       "      <td>2011-06-06</td>\n",
       "      <td>Lyon, France</td>\n",
       "      <td>We are a family with 3 daughters, aged 16-14-1...</td>\n",
       "      <td>within an hour</td>\n",
       "      <td>f</td>\n",
       "      <td>1st Arrondissement</td>\n",
       "      <td>t</td>\n",
       "      <td>...</td>\n",
       "      <td>0.0</td>\n",
       "      <td>4.78</td>\n",
       "      <td>4.89</td>\n",
       "      <td>4.89</td>\n",
       "      <td>4.95</td>\n",
       "      <td>1.0</td>\n",
       "      <td>1.0</td>\n",
       "      <td>1.0</td>\n",
       "      <td>0.0</td>\n",
       "      <td>0.12</td>\n",
       "    </tr>\n",
       "    <tr>\n",
       "      <th>4</th>\n",
       "      <td>4</td>\n",
       "      <td>Quartier Terreaux 4/6 pers. Hyper centre / Clim</td>\n",
       "      <td>Giuseppina</td>\n",
       "      <td>2011-07-18</td>\n",
       "      <td>Rhône-Alpes, France</td>\n",
       "      <td>Mon pays d'origine est l'Italie, mais je résid...</td>\n",
       "      <td>within an hour</td>\n",
       "      <td>f</td>\n",
       "      <td>1st Arrondissement</td>\n",
       "      <td>t</td>\n",
       "      <td>...</td>\n",
       "      <td>2.0</td>\n",
       "      <td>4.62</td>\n",
       "      <td>4.86</td>\n",
       "      <td>4.83</td>\n",
       "      <td>4.88</td>\n",
       "      <td>2.0</td>\n",
       "      <td>1.0</td>\n",
       "      <td>1.0</td>\n",
       "      <td>0.0</td>\n",
       "      <td>2.99</td>\n",
       "    </tr>\n",
       "  </tbody>\n",
       "</table>\n",
       "<p>5 rows × 51 columns</p>\n",
       "</div>"
      ],
      "text/plain": [
       "   Unnamed: 0                                             name   host_name  \\\n",
       "0           0                    Duplex avec vue, centre ville    Isabelle   \n",
       "1           1                  Nice Flat in the center of Lyon  Clementine   \n",
       "2           2               Centre of old town,home sweet home      Polali   \n",
       "3           3              Bel apartment, 2 rooms, Lyon center    Sandrine   \n",
       "4           4  Quartier Terreaux 4/6 pers. Hyper centre / Clim  Giuseppina   \n",
       "\n",
       "   host_since        host_location  \\\n",
       "0  2010-10-24         Lyon, France   \n",
       "1  2011-02-26         Lyon, France   \n",
       "2  2011-06-03         Lyon, France   \n",
       "3  2011-06-06         Lyon, France   \n",
       "4  2011-07-18  Rhône-Alpes, France   \n",
       "\n",
       "                                          host_about  host_response_time  \\\n",
       "0  I'm 47 years old. I enjoy books and arts. I'm ...  within a few hours   \n",
       "1  Je travaille dans le cinéma et je voyage beauc...      within an hour   \n",
       "2  J'ai 34 ans , je suis animatrice auprès de per...  a few days or more   \n",
       "3  We are a family with 3 daughters, aged 16-14-1...      within an hour   \n",
       "4  Mon pays d'origine est l'Italie, mais je résid...      within an hour   \n",
       "\n",
       "  host_is_superhost  host_neighbourhood host_identity_verified  ...  \\\n",
       "0                 f  5th Arrondissement                      t  ...   \n",
       "1                 f  5th Arrondissement                      t  ...   \n",
       "2                 f  5th Arrondissement                      t  ...   \n",
       "3                 f  1st Arrondissement                      t  ...   \n",
       "4                 f  1st Arrondissement                      t  ...   \n",
       "\n",
       "  number_of_reviews_l30d review_scores_rating review_scores_cleanliness  \\\n",
       "0                    0.0                 4.70                      4.71   \n",
       "1                    1.0                 4.75                      4.80   \n",
       "2                    0.0                 4.48                      4.27   \n",
       "3                    0.0                 4.78                      4.89   \n",
       "4                    2.0                 4.62                      4.86   \n",
       "\n",
       "  review_scores_checkin review_scores_location calculated_host_listings_count  \\\n",
       "0                  4.78                   4.86                            1.0   \n",
       "1                  4.96                   4.88                            1.0   \n",
       "2                  4.72                   4.86                            1.0   \n",
       "3                  4.89                   4.95                            1.0   \n",
       "4                  4.83                   4.88                            2.0   \n",
       "\n",
       "   calculated_host_listings_count_entire_homes  \\\n",
       "0                                          1.0   \n",
       "1                                          1.0   \n",
       "2                                          1.0   \n",
       "3                                          1.0   \n",
       "4                                          1.0   \n",
       "\n",
       "   calculated_host_listings_count_entire_homes.1  \\\n",
       "0                                            1.0   \n",
       "1                                            1.0   \n",
       "2                                            1.0   \n",
       "3                                            1.0   \n",
       "4                                            1.0   \n",
       "\n",
       "   calculated_host_listings_count_shared_rooms  reviews_per_month  \n",
       "0                                          0.0               0.33  \n",
       "1                                          0.0               0.15  \n",
       "2                                          0.0               0.82  \n",
       "3                                          0.0               0.12  \n",
       "4                                          0.0               2.99  \n",
       "\n",
       "[5 rows x 51 columns]"
      ]
     },
     "execution_count": 204,
     "metadata": {},
     "output_type": "execute_result"
    }
   ],
   "source": [
    "df = pd.read_csv('Francia_limpio.csv')\n",
    "df.head()"
   ]
  },
  {
   "cell_type": "markdown",
   "metadata": {},
   "source": [
    "  ** Usamos las siguientes ecuaciones como funciones de ajuste.**\n",
    "            y = ax^2 + bx + c   (\"Función cuadrática\")\n",
    "            y = a*exp(-bx) + c   (\"Función exponencial\")\n",
    "            y =1/a*x            (\"Función inversa\")\n",
    "            y = a*np.sin(x) + b (\"Función senoidal\")\n",
    "            y = a*np.tan(x) + b (\"Función tangencial\")\n",
    "            y = a*np.abs(x) + b*x + c (Función Valor absoluto)\n",
    "            y = (a*x**2 + b)/ c*x (Función cociente entre polinomios) #esta\n",
    "            y = a*np.log(x) + b  (Función logaritmica)\n",
    "            y = a*x + b*x + c*x (Función lineal con producto de coeficientes)\n",
    "            y = 1/a*x**2  (Función cuadrática inversa)\n",
    "            y = a/b*x**2 + c*x (Función polinomial inversa"
   ]
  },
  {
   "cell_type": "markdown",
   "metadata": {},
   "source": [
    "# Host_response_rate"
   ]
  },
  {
   "cell_type": "markdown",
   "metadata": {},
   "source": [
    "**REGRESIÓN LINEAL**"
   ]
  },
  {
   "cell_type": "code",
   "execution_count": 205,
   "metadata": {},
   "outputs": [
    {
     "name": "stdout",
     "output_type": "stream",
     "text": [
      "Coeficiente de determinación: 1.0\n",
      "Coeficiente de correlación: 1.0\n"
     ]
    }
   ],
   "source": [
    "# Declaramos las variables correctamente\n",
    "Vari_Independiente = df[['review_scores_rating']]  \n",
    "Vari_Dependiente = df['host_response_rate']      \n",
    "\n",
    "# Modelo de regresión lineal\n",
    "from sklearn.linear_model import LinearRegression\n",
    "model = LinearRegression()\n",
    "\n",
    "# Ajustar el modelo\n",
    "model.fit(X=Vari_Independiente, y=Vari_Dependiente)\n",
    "\n",
    "# Coeficientes\n",
    "coef_Deter = model.score(X=Vari_Independiente, y=Vari_Dependiente)\n",
    "print(f'Coeficiente de determinación:', coef_Deter)\n",
    "\n",
    "coef_Correl = np.sqrt(coef_Deter)\n",
    "print(f'Coeficiente de correlación:', coef_Correl)"
   ]
  },
  {
   "cell_type": "markdown",
   "metadata": {},
   "source": [
    "**REGRESIÓN NO LINEAL**"
   ]
  },
  {
   "cell_type": "code",
   "execution_count": 206,
   "metadata": {},
   "outputs": [],
   "source": [
    "#Declaramos las variables dependientes e independientes para la regresión  no lineal\n",
    "Vars_Indep = df[['review_scores_rating']]\n",
    "Var_Dep = df['host_response_rate']"
   ]
  },
  {
   "cell_type": "code",
   "execution_count": 207,
   "metadata": {},
   "outputs": [],
   "source": [
    "#Redefinimos\n",
    "x = Vars_Indep\n",
    "y = Var_Dep"
   ]
  },
  {
   "cell_type": "markdown",
   "metadata": {},
   "source": [
    "**MODELO 1**"
   ]
  },
  {
   "cell_type": "code",
   "execution_count": 208,
   "metadata": {},
   "outputs": [],
   "source": [
    "def funcion_cuadratica (x,a,b,c): #Variable x y los coeficientes a,b,c\n",
    "    return a*x**2 + b*x+c #cuadrática"
   ]
  },
  {
   "cell_type": "code",
   "execution_count": 209,
   "metadata": {},
   "outputs": [
    {
     "data": {
      "text/plain": [
       "array([ 2.08984679e-08, -1.97491007e-07,  1.00000047e+00])"
      ]
     },
     "execution_count": 209,
     "metadata": {},
     "output_type": "execute_result"
    }
   ],
   "source": [
    "#Ajustamos los parámetros de la función curve_fit\n",
    "parametros1, covs = curve_fit(funcion_cuadratica,df['review_scores_rating'],df['host_response_rate'])\n",
    "parametros1"
   ]
  },
  {
   "cell_type": "code",
   "execution_count": 210,
   "metadata": {},
   "outputs": [
    {
     "data": {
      "text/html": [
       "<div>\n",
       "<style scoped>\n",
       "    .dataframe tbody tr th:only-of-type {\n",
       "        vertical-align: middle;\n",
       "    }\n",
       "\n",
       "    .dataframe tbody tr th {\n",
       "        vertical-align: top;\n",
       "    }\n",
       "\n",
       "    .dataframe thead th {\n",
       "        text-align: right;\n",
       "    }\n",
       "</style>\n",
       "<table border=\"1\" class=\"dataframe\">\n",
       "  <thead>\n",
       "    <tr style=\"text-align: right;\">\n",
       "      <th></th>\n",
       "      <th>review_scores_rating</th>\n",
       "    </tr>\n",
       "  </thead>\n",
       "  <tbody>\n",
       "    <tr>\n",
       "      <th>0</th>\n",
       "      <td>1.0</td>\n",
       "    </tr>\n",
       "    <tr>\n",
       "      <th>1</th>\n",
       "      <td>1.0</td>\n",
       "    </tr>\n",
       "    <tr>\n",
       "      <th>2</th>\n",
       "      <td>1.0</td>\n",
       "    </tr>\n",
       "    <tr>\n",
       "      <th>3</th>\n",
       "      <td>1.0</td>\n",
       "    </tr>\n",
       "    <tr>\n",
       "      <th>4</th>\n",
       "      <td>1.0</td>\n",
       "    </tr>\n",
       "    <tr>\n",
       "      <th>...</th>\n",
       "      <td>...</td>\n",
       "    </tr>\n",
       "    <tr>\n",
       "      <th>9886</th>\n",
       "      <td>1.0</td>\n",
       "    </tr>\n",
       "    <tr>\n",
       "      <th>9887</th>\n",
       "      <td>1.0</td>\n",
       "    </tr>\n",
       "    <tr>\n",
       "      <th>9888</th>\n",
       "      <td>1.0</td>\n",
       "    </tr>\n",
       "    <tr>\n",
       "      <th>9889</th>\n",
       "      <td>1.0</td>\n",
       "    </tr>\n",
       "    <tr>\n",
       "      <th>9890</th>\n",
       "      <td>1.0</td>\n",
       "    </tr>\n",
       "  </tbody>\n",
       "</table>\n",
       "<p>9891 rows × 1 columns</p>\n",
       "</div>"
      ],
      "text/plain": [
       "      review_scores_rating\n",
       "0                      1.0\n",
       "1                      1.0\n",
       "2                      1.0\n",
       "3                      1.0\n",
       "4                      1.0\n",
       "...                    ...\n",
       "9886                   1.0\n",
       "9887                   1.0\n",
       "9888                   1.0\n",
       "9889                   1.0\n",
       "9890                   1.0\n",
       "\n",
       "[9891 rows x 1 columns]"
      ]
     },
     "execution_count": 210,
     "metadata": {},
     "output_type": "execute_result"
    }
   ],
   "source": [
    "# Predicciones\n",
    "y_pred1 = funcion_cuadratica(x, *parametros1)\n",
    "#Calculamos las predicciones y reestructuramos el vector de predicciones\n",
    "y_pred1"
   ]
  },
  {
   "cell_type": "code",
   "execution_count": 211,
   "metadata": {},
   "outputs": [
    {
     "data": {
      "image/png": "[encoded data removed]",
      "text/plain": [
       "<Figure size 640x480 with 1 Axes>"
      ]
     },
     "metadata": {},
     "output_type": "display_data"
    }
   ],
   "source": [
    "#Graficamos las predicciones y los datos originales para realizar la comparación\n",
    "plt.plot(x, y, 'bo', label=\"y-original\")\n",
    "plt.plot(x, y_pred1, label=\"y-predecida con y=a*x^2+b*x+c\")\n",
    "plt.xlabel('x')\n",
    "plt.ylabel('y')\n",
    "plt.legend(loc='best', fancybox=True, shadow=True)\n",
    "plt.grid(True)\n",
    "plt.show()"
   ]
  },
  {
   "cell_type": "code",
   "execution_count": 212,
   "metadata": {},
   "outputs": [
    {
     "name": "stdout",
     "output_type": "stream",
     "text": [
      "El coeficiente de determinación es: 0.0\n",
      "El coeficiente de correlación es: 0.0\n"
     ]
    }
   ],
   "source": [
    "#Calculamos el coeficiente de determinación del modelo\n",
    "R2_Modelo1 = r2_score(y,y_pred1)\n",
    "print('El coeficiente de determinación es:',R2_Modelo1)\n",
    "#Calculamos el coefieciente de correlación del modelo\n",
    "R = np.sqrt(R2_Modelo1)\n",
    "print('El coeficiente de correlación es:',R)"
   ]
  },
  {
   "cell_type": "markdown",
   "metadata": {},
   "source": [
    "**MODELO 2**"
   ]
  },
  {
   "cell_type": "code",
   "execution_count": 213,
   "metadata": {},
   "outputs": [],
   "source": [
    "def funcion_cuadratica_inversa (x,a): #Variable x y los coeficientes a,b,c\n",
    "    return 1 / (a * x**2)"
   ]
  },
  {
   "cell_type": "code",
   "execution_count": 214,
   "metadata": {},
   "outputs": [
    {
     "data": {
      "text/plain": [
       "array([0.04378272])"
      ]
     },
     "execution_count": 214,
     "metadata": {},
     "output_type": "execute_result"
    }
   ],
   "source": [
    "#Ajustamos los parámetros de la función curve_fit\n",
    "parametros2, covs = curve_fit(funcion_cuadratica_inversa,df['review_scores_rating'],df['host_response_rate'])\n",
    "parametros2"
   ]
  },
  {
   "cell_type": "code",
   "execution_count": 215,
   "metadata": {},
   "outputs": [
    {
     "data": {
      "text/html": [
       "<div>\n",
       "<style scoped>\n",
       "    .dataframe tbody tr th:only-of-type {\n",
       "        vertical-align: middle;\n",
       "    }\n",
       "\n",
       "    .dataframe tbody tr th {\n",
       "        vertical-align: top;\n",
       "    }\n",
       "\n",
       "    .dataframe thead th {\n",
       "        text-align: right;\n",
       "    }\n",
       "</style>\n",
       "<table border=\"1\" class=\"dataframe\">\n",
       "  <thead>\n",
       "    <tr style=\"text-align: right;\">\n",
       "      <th></th>\n",
       "      <th>review_scores_rating</th>\n",
       "    </tr>\n",
       "  </thead>\n",
       "  <tbody>\n",
       "    <tr>\n",
       "      <th>0</th>\n",
       "      <td>1.033955</td>\n",
       "    </tr>\n",
       "    <tr>\n",
       "      <th>1</th>\n",
       "      <td>1.012302</td>\n",
       "    </tr>\n",
       "    <tr>\n",
       "      <th>2</th>\n",
       "      <td>1.137997</td>\n",
       "    </tr>\n",
       "    <tr>\n",
       "      <th>3</th>\n",
       "      <td>0.999635</td>\n",
       "    </tr>\n",
       "    <tr>\n",
       "      <th>4</th>\n",
       "      <td>1.070073</td>\n",
       "    </tr>\n",
       "    <tr>\n",
       "      <th>...</th>\n",
       "      <td>...</td>\n",
       "    </tr>\n",
       "    <tr>\n",
       "      <th>9886</th>\n",
       "      <td>0.991322</td>\n",
       "    </tr>\n",
       "    <tr>\n",
       "      <th>9887</th>\n",
       "      <td>0.991322</td>\n",
       "    </tr>\n",
       "    <tr>\n",
       "      <th>9888</th>\n",
       "      <td>0.991322</td>\n",
       "    </tr>\n",
       "    <tr>\n",
       "      <th>9889</th>\n",
       "      <td>0.991322</td>\n",
       "    </tr>\n",
       "    <tr>\n",
       "      <th>9890</th>\n",
       "      <td>0.991322</td>\n",
       "    </tr>\n",
       "  </tbody>\n",
       "</table>\n",
       "<p>9891 rows × 1 columns</p>\n",
       "</div>"
      ],
      "text/plain": [
       "      review_scores_rating\n",
       "0                 1.033955\n",
       "1                 1.012302\n",
       "2                 1.137997\n",
       "3                 0.999635\n",
       "4                 1.070073\n",
       "...                    ...\n",
       "9886              0.991322\n",
       "9887              0.991322\n",
       "9888              0.991322\n",
       "9889              0.991322\n",
       "9890              0.991322\n",
       "\n",
       "[9891 rows x 1 columns]"
      ]
     },
     "execution_count": 215,
     "metadata": {},
     "output_type": "execute_result"
    }
   ],
   "source": [
    "# Predicciones\n",
    "y_pred2 = funcion_cuadratica_inversa(x, *parametros2)\n",
    "#Calculamos las predicciones y reestructuramos el vector de predicciones\n",
    "y_pred2"
   ]
  },
  {
   "cell_type": "code",
   "execution_count": 216,
   "metadata": {},
   "outputs": [
    {
     "data": {
      "image/png": "[encoded data removed]",
      "text/plain": [
       "<Figure size 640x480 with 1 Axes>"
      ]
     },
     "metadata": {},
     "output_type": "display_data"
    }
   ],
   "source": [
    "#Graficamos las predicciones y los datos originales para realizar la comparación\n",
    "plt.plot(x, y, 'bo', label=\"y-original\")\n",
    "plt.plot(x, y_pred2, label=\"y-predecida con y = 1/a*x**2\")\n",
    "plt.xlabel('x')\n",
    "plt.ylabel('y')\n",
    "plt.legend(loc='best', fancybox=True, shadow=True)\n",
    "plt.grid(True)\n",
    "plt.show()"
   ]
  },
  {
   "cell_type": "code",
   "execution_count": 217,
   "metadata": {},
   "outputs": [
    {
     "name": "stdout",
     "output_type": "stream",
     "text": [
      "El coeficiente de determinación es: 0.0\n",
      "El coeficiente de correlación es: 0.0\n"
     ]
    }
   ],
   "source": [
    "#Calculamos el coeficiente de determinación del modelo\n",
    "R2_Modelo2 = r2_score(y,y_pred2)\n",
    "print('El coeficiente de determinación es:',R2_Modelo2)\n",
    "#Calculamos el coefieciente de correlación del modelo\n",
    "R = np.sqrt(R2_Modelo2)\n",
    "print('El coeficiente de correlación es:',R)"
   ]
  },
  {
   "cell_type": "markdown",
   "metadata": {},
   "source": [
    "# Host_acceptance_rate"
   ]
  },
  {
   "cell_type": "markdown",
   "metadata": {},
   "source": [
    "**REGRESIÓN LINEAL**"
   ]
  },
  {
   "cell_type": "code",
   "execution_count": 218,
   "metadata": {},
   "outputs": [
    {
     "name": "stdout",
     "output_type": "stream",
     "text": [
      "Coeficiente de determinación: 0.024338398494175184\n",
      "Coeficiente de correlación: 0.1560076872919254\n"
     ]
    }
   ],
   "source": [
    "# Declaramos las variables correctamente\n",
    "Vari_Independiente = df[['number_of_reviews']]  \n",
    "Vari_Dependiente = df['host_acceptance_rate']      \n",
    "\n",
    "# Modelo de regresión lineal\n",
    "from sklearn.linear_model import LinearRegression\n",
    "model = LinearRegression()\n",
    "\n",
    "# Ajustar el modelo\n",
    "model.fit(X=Vari_Independiente, y=Vari_Dependiente)\n",
    "\n",
    "# Coeficientes\n",
    "coef_Deter = model.score(X=Vari_Independiente, y=Vari_Dependiente)\n",
    "print(f'Coeficiente de determinación:', coef_Deter)\n",
    "\n",
    "coef_Correl = np.sqrt(coef_Deter)\n",
    "print(f'Coeficiente de correlación:', coef_Correl)"
   ]
  },
  {
   "cell_type": "markdown",
   "metadata": {},
   "source": [
    "**REGRESIÓN NO LINEAL**"
   ]
  },
  {
   "cell_type": "code",
   "execution_count": 219,
   "metadata": {},
   "outputs": [],
   "source": [
    "#Declaramos las variables dependientes e independientes para la regresión  no lineal\n",
    "Vars_Indep = df[['number_of_reviews']]\n",
    "Var_Dep = df['host_acceptance_rate']\n",
    "\n",
    "#Redefinimos\n",
    "x = Vars_Indep\n",
    "y = Var_Dep"
   ]
  },
  {
   "cell_type": "markdown",
   "metadata": {},
   "source": [
    "**MODELO 1**"
   ]
  },
  {
   "cell_type": "code",
   "execution_count": 220,
   "metadata": {},
   "outputs": [],
   "source": [
    "def funcion_exponencial(x, a, b, c):\n",
    "    return a * np.exp(-b * x) + c"
   ]
  },
  {
   "cell_type": "code",
   "execution_count": 221,
   "metadata": {},
   "outputs": [
    {
     "data": {
      "text/plain": [
       "array([0.02744639, 0.11422689, 0.96659497])"
      ]
     },
     "execution_count": 221,
     "metadata": {},
     "output_type": "execute_result"
    }
   ],
   "source": [
    "#Ajustamos los parámetros de la función curve_fit\n",
    "parametros3, covs = curve_fit(funcion_exponencial,df['number_of_reviews'],df['host_acceptance_rate'])\n",
    "parametros3"
   ]
  },
  {
   "cell_type": "code",
   "execution_count": 222,
   "metadata": {},
   "outputs": [
    {
     "data": {
      "text/html": [
       "<div>\n",
       "<style scoped>\n",
       "    .dataframe tbody tr th:only-of-type {\n",
       "        vertical-align: middle;\n",
       "    }\n",
       "\n",
       "    .dataframe tbody tr th {\n",
       "        vertical-align: top;\n",
       "    }\n",
       "\n",
       "    .dataframe thead th {\n",
       "        text-align: right;\n",
       "    }\n",
       "</style>\n",
       "<table border=\"1\" class=\"dataframe\">\n",
       "  <thead>\n",
       "    <tr style=\"text-align: right;\">\n",
       "      <th></th>\n",
       "      <th>number_of_reviews</th>\n",
       "    </tr>\n",
       "  </thead>\n",
       "  <tbody>\n",
       "    <tr>\n",
       "      <th>0</th>\n",
       "      <td>0.966641</td>\n",
       "    </tr>\n",
       "    <tr>\n",
       "      <th>1</th>\n",
       "      <td>0.968003</td>\n",
       "    </tr>\n",
       "    <tr>\n",
       "      <th>2</th>\n",
       "      <td>0.971430</td>\n",
       "    </tr>\n",
       "    <tr>\n",
       "      <th>3</th>\n",
       "      <td>0.969390</td>\n",
       "    </tr>\n",
       "    <tr>\n",
       "      <th>4</th>\n",
       "      <td>0.971430</td>\n",
       "    </tr>\n",
       "    <tr>\n",
       "      <th>...</th>\n",
       "      <td>...</td>\n",
       "    </tr>\n",
       "    <tr>\n",
       "      <th>9886</th>\n",
       "      <td>0.994041</td>\n",
       "    </tr>\n",
       "    <tr>\n",
       "      <th>9887</th>\n",
       "      <td>0.994041</td>\n",
       "    </tr>\n",
       "    <tr>\n",
       "      <th>9888</th>\n",
       "      <td>0.994041</td>\n",
       "    </tr>\n",
       "    <tr>\n",
       "      <th>9889</th>\n",
       "      <td>0.994041</td>\n",
       "    </tr>\n",
       "    <tr>\n",
       "      <th>9890</th>\n",
       "      <td>0.994041</td>\n",
       "    </tr>\n",
       "  </tbody>\n",
       "</table>\n",
       "<p>9891 rows × 1 columns</p>\n",
       "</div>"
      ],
      "text/plain": [
       "      number_of_reviews\n",
       "0              0.966641\n",
       "1              0.968003\n",
       "2              0.971430\n",
       "3              0.969390\n",
       "4              0.971430\n",
       "...                 ...\n",
       "9886           0.994041\n",
       "9887           0.994041\n",
       "9888           0.994041\n",
       "9889           0.994041\n",
       "9890           0.994041\n",
       "\n",
       "[9891 rows x 1 columns]"
      ]
     },
     "execution_count": 222,
     "metadata": {},
     "output_type": "execute_result"
    }
   ],
   "source": [
    "# Predicciones\n",
    "y_pred3 = funcion_exponencial(x, *parametros3)\n",
    "#Calculamos las predicciones y reestructuramos el vector de predicciones\n",
    "y_pred3"
   ]
  },
  {
   "cell_type": "code",
   "execution_count": 223,
   "metadata": {},
   "outputs": [
    {
     "data": {
      "image/png": "[encoded data removed]",
      "text/plain": [
       "<Figure size 640x480 with 1 Axes>"
      ]
     },
     "metadata": {},
     "output_type": "display_data"
    }
   ],
   "source": [
    "#Graficamos las predicciones y los datos originales para realizar la comparación\n",
    "plt.plot(x, y, 'bo', label=\"y-original\")\n",
    "plt.plot(x, y_pred3, label=\"y-predecida con y = a * np.exp(-b * x) + cb\")\n",
    "plt.xlabel('x')\n",
    "plt.ylabel('y')\n",
    "plt.legend(loc='best', fancybox=True, shadow=True)\n",
    "plt.grid(True)\n",
    "plt.show()"
   ]
  },
  {
   "cell_type": "code",
   "execution_count": 224,
   "metadata": {},
   "outputs": [
    {
     "name": "stdout",
     "output_type": "stream",
     "text": [
      "El coeficiente de determinación es: 0.042129409189854305\n",
      "El coeficiente de correlación es: 0.20525449858615596\n"
     ]
    }
   ],
   "source": [
    "#Calculamos el coeficiente de determinación del modelo\n",
    "R2_Modelo2 = r2_score(y,y_pred3)\n",
    "print('El coeficiente de determinación es:',R2_Modelo2)\n",
    "#Calculamos el coefieciente de correlación del modelo\n",
    "R = np.sqrt(R2_Modelo2)\n",
    "print('El coeficiente de correlación es:',R)"
   ]
  },
  {
   "cell_type": "markdown",
   "metadata": {},
   "source": [
    "**MODELO 2**"
   ]
  },
  {
   "cell_type": "code",
   "execution_count": 225,
   "metadata": {},
   "outputs": [
    {
     "data": {
      "text/plain": [
       "array([ 1.20998397e-05, -1.21852877e-03,  9.90556837e-01])"
      ]
     },
     "execution_count": 225,
     "metadata": {},
     "output_type": "execute_result"
    }
   ],
   "source": [
    "#Ajustamos los parámetros de la función curve_fit\n",
    "parametros4, covs = curve_fit(funcion_cuadratica,df['number_of_reviews'],df['host_acceptance_rate'])\n",
    "parametros4"
   ]
  },
  {
   "cell_type": "code",
   "execution_count": 226,
   "metadata": {},
   "outputs": [
    {
     "data": {
      "text/html": [
       "<div>\n",
       "<style scoped>\n",
       "    .dataframe tbody tr th:only-of-type {\n",
       "        vertical-align: middle;\n",
       "    }\n",
       "\n",
       "    .dataframe tbody tr th {\n",
       "        vertical-align: top;\n",
       "    }\n",
       "\n",
       "    .dataframe thead th {\n",
       "        text-align: right;\n",
       "    }\n",
       "</style>\n",
       "<table border=\"1\" class=\"dataframe\">\n",
       "  <thead>\n",
       "    <tr style=\"text-align: right;\">\n",
       "      <th></th>\n",
       "      <th>number_of_reviews</th>\n",
       "    </tr>\n",
       "  </thead>\n",
       "  <tbody>\n",
       "    <tr>\n",
       "      <th>0</th>\n",
       "      <td>0.960264</td>\n",
       "    </tr>\n",
       "    <tr>\n",
       "      <th>1</th>\n",
       "      <td>0.967055</td>\n",
       "    </tr>\n",
       "    <tr>\n",
       "      <th>2</th>\n",
       "      <td>0.974831</td>\n",
       "    </tr>\n",
       "    <tr>\n",
       "      <th>3</th>\n",
       "      <td>0.971026</td>\n",
       "    </tr>\n",
       "    <tr>\n",
       "      <th>4</th>\n",
       "      <td>0.974831</td>\n",
       "    </tr>\n",
       "    <tr>\n",
       "      <th>...</th>\n",
       "      <td>...</td>\n",
       "    </tr>\n",
       "    <tr>\n",
       "      <th>9886</th>\n",
       "      <td>0.990557</td>\n",
       "    </tr>\n",
       "    <tr>\n",
       "      <th>9887</th>\n",
       "      <td>0.990557</td>\n",
       "    </tr>\n",
       "    <tr>\n",
       "      <th>9888</th>\n",
       "      <td>0.990557</td>\n",
       "    </tr>\n",
       "    <tr>\n",
       "      <th>9889</th>\n",
       "      <td>0.990557</td>\n",
       "    </tr>\n",
       "    <tr>\n",
       "      <th>9890</th>\n",
       "      <td>0.990557</td>\n",
       "    </tr>\n",
       "  </tbody>\n",
       "</table>\n",
       "<p>9891 rows × 1 columns</p>\n",
       "</div>"
      ],
      "text/plain": [
       "      number_of_reviews\n",
       "0              0.960264\n",
       "1              0.967055\n",
       "2              0.974831\n",
       "3              0.971026\n",
       "4              0.974831\n",
       "...                 ...\n",
       "9886           0.990557\n",
       "9887           0.990557\n",
       "9888           0.990557\n",
       "9889           0.990557\n",
       "9890           0.990557\n",
       "\n",
       "[9891 rows x 1 columns]"
      ]
     },
     "execution_count": 226,
     "metadata": {},
     "output_type": "execute_result"
    }
   ],
   "source": [
    "# Predicciones\n",
    "y_pred4 = funcion_cuadratica(x, *parametros4)\n",
    "#Calculamos las predicciones y reestructuramos el vector de predicciones\n",
    "y_pred4"
   ]
  },
  {
   "cell_type": "code",
   "execution_count": 227,
   "metadata": {},
   "outputs": [
    {
     "data": {
      "image/png": "[encoded data removed]",
      "text/plain": [
       "<Figure size 640x480 with 1 Axes>"
      ]
     },
     "metadata": {},
     "output_type": "display_data"
    }
   ],
   "source": [
    "#Graficamos las predicciones y los datos originales para realizar la comparación\n",
    "plt.plot(x, y, 'bo', label=\"y-original\")\n",
    "plt.plot(x, y_pred4, label=\"y-predecida con y = ax^2 + bx + c\")\n",
    "plt.xlabel('x')\n",
    "plt.ylabel('y')\n",
    "plt.legend(loc='best', fancybox=True, shadow=True)\n",
    "plt.grid(True)\n",
    "plt.show()"
   ]
  },
  {
   "cell_type": "code",
   "execution_count": 228,
   "metadata": {},
   "outputs": [
    {
     "name": "stdout",
     "output_type": "stream",
     "text": [
      "El coeficiente de determinación es: 0.038610987249335316\n",
      "El coeficiente de correlación es: 0.1964967868677127\n"
     ]
    }
   ],
   "source": [
    "#Calculamos el coeficiente de determinación del modelo\n",
    "R2_Modelo2 = r2_score(y,y_pred4)\n",
    "print('El coeficiente de determinación es:',R2_Modelo2)\n",
    "#Calculamos el coefieciente de correlación del modelo\n",
    "R = np.sqrt(R2_Modelo2)\n",
    "print('El coeficiente de correlación es:',R)"
   ]
  },
  {
   "cell_type": "markdown",
   "metadata": {},
   "source": [
    "# Host_total_listings_count"
   ]
  },
  {
   "cell_type": "markdown",
   "metadata": {},
   "source": [
    "**REGRESIÓN LINEAL**"
   ]
  },
  {
   "cell_type": "code",
   "execution_count": 229,
   "metadata": {},
   "outputs": [
    {
     "name": "stdout",
     "output_type": "stream",
     "text": [
      "Coeficiente de determinación: 0.01491759515562896\n",
      "Coeficiente de correlación: 0.1221376074582639\n"
     ]
    }
   ],
   "source": [
    "# Declaramos las variables correctamente\n",
    "Vari_Independiente = df[['availability_365']]  \n",
    "Vari_Dependiente = df['host_total_listings_count']      \n",
    "\n",
    "# Modelo de regresión lineal\n",
    "from sklearn.linear_model import LinearRegression\n",
    "model = LinearRegression()\n",
    "\n",
    "# Ajustar el modelo\n",
    "model.fit(X=Vari_Independiente, y=Vari_Dependiente)\n",
    "\n",
    "# Coeficientes\n",
    "coef_Deter = model.score(X=Vari_Independiente, y=Vari_Dependiente)\n",
    "print(f'Coeficiente de determinación:', coef_Deter)\n",
    "\n",
    "coef_Correl = np.sqrt(coef_Deter)\n",
    "print(f'Coeficiente de correlación:', coef_Correl)"
   ]
  },
  {
   "cell_type": "markdown",
   "metadata": {},
   "source": [
    "**REGRESIÓN NO LINEAL**"
   ]
  },
  {
   "cell_type": "code",
   "execution_count": 305,
   "metadata": {},
   "outputs": [],
   "source": [
    "#Declaramos las variables dependientes e independientes para la regresión  no lineal\n",
    "Vars_Indep = df[['availability_365']]\n",
    "Var_Dep = df['host_total_listings_count']\n",
    "\n",
    "#Redefinimos\n",
    "x = Vars_Indep\n",
    "y = Var_Dep"
   ]
  },
  {
   "cell_type": "markdown",
   "metadata": {},
   "source": [
    "**MODELO 1**"
   ]
  },
  {
   "cell_type": "markdown",
   "metadata": {},
   "source": [
    "Función cuadrática, ya use esa función por lo que solo la mando a llamar"
   ]
  },
  {
   "cell_type": "code",
   "execution_count": 231,
   "metadata": {},
   "outputs": [
    {
     "data": {
      "text/plain": [
       "array([-6.58233397e-06,  3.11611095e-03,  1.58725155e+00])"
      ]
     },
     "execution_count": 231,
     "metadata": {},
     "output_type": "execute_result"
    }
   ],
   "source": [
    "#Ajustamos los parámetros de la función curve_fit\n",
    "parametros5, covs = curve_fit(funcion_cuadratica,df['availability_365'],df['host_total_listings_count'])\n",
    "parametros5"
   ]
  },
  {
   "cell_type": "code",
   "execution_count": 232,
   "metadata": {},
   "outputs": [
    {
     "data": {
      "text/html": [
       "<div>\n",
       "<style scoped>\n",
       "    .dataframe tbody tr th:only-of-type {\n",
       "        vertical-align: middle;\n",
       "    }\n",
       "\n",
       "    .dataframe tbody tr th {\n",
       "        vertical-align: top;\n",
       "    }\n",
       "\n",
       "    .dataframe thead th {\n",
       "        text-align: right;\n",
       "    }\n",
       "</style>\n",
       "<table border=\"1\" class=\"dataframe\">\n",
       "  <thead>\n",
       "    <tr style=\"text-align: right;\">\n",
       "      <th></th>\n",
       "      <th>availability_365</th>\n",
       "    </tr>\n",
       "  </thead>\n",
       "  <tbody>\n",
       "    <tr>\n",
       "      <th>0</th>\n",
       "      <td>1.927982</td>\n",
       "    </tr>\n",
       "    <tr>\n",
       "      <th>1</th>\n",
       "      <td>1.800543</td>\n",
       "    </tr>\n",
       "    <tr>\n",
       "      <th>2</th>\n",
       "      <td>1.808532</td>\n",
       "    </tr>\n",
       "    <tr>\n",
       "      <th>3</th>\n",
       "      <td>1.829414</td>\n",
       "    </tr>\n",
       "    <tr>\n",
       "      <th>4</th>\n",
       "      <td>1.925876</td>\n",
       "    </tr>\n",
       "    <tr>\n",
       "      <th>...</th>\n",
       "      <td>...</td>\n",
       "    </tr>\n",
       "    <tr>\n",
       "      <th>9886</th>\n",
       "      <td>1.887165</td>\n",
       "    </tr>\n",
       "    <tr>\n",
       "      <th>9887</th>\n",
       "      <td>1.907027</td>\n",
       "    </tr>\n",
       "    <tr>\n",
       "      <th>9888</th>\n",
       "      <td>1.812447</td>\n",
       "    </tr>\n",
       "    <tr>\n",
       "      <th>9889</th>\n",
       "      <td>1.847701</td>\n",
       "    </tr>\n",
       "    <tr>\n",
       "      <th>9890</th>\n",
       "      <td>1.852708</td>\n",
       "    </tr>\n",
       "  </tbody>\n",
       "</table>\n",
       "<p>9891 rows × 1 columns</p>\n",
       "</div>"
      ],
      "text/plain": [
       "      availability_365\n",
       "0             1.927982\n",
       "1             1.800543\n",
       "2             1.808532\n",
       "3             1.829414\n",
       "4             1.925876\n",
       "...                ...\n",
       "9886          1.887165\n",
       "9887          1.907027\n",
       "9888          1.812447\n",
       "9889          1.847701\n",
       "9890          1.852708\n",
       "\n",
       "[9891 rows x 1 columns]"
      ]
     },
     "execution_count": 232,
     "metadata": {},
     "output_type": "execute_result"
    }
   ],
   "source": [
    "# Predicciones\n",
    "y_pred5 = funcion_cuadratica(x, *parametros5)\n",
    "#Calculamos las predicciones y reestructuramos el vector de predicciones\n",
    "y_pred5"
   ]
  },
  {
   "cell_type": "code",
   "execution_count": 233,
   "metadata": {},
   "outputs": [
    {
     "data": {
      "image/png": "[encoded data removed]",
      "text/plain": [
       "<Figure size 640x480 with 1 Axes>"
      ]
     },
     "metadata": {},
     "output_type": "display_data"
    }
   ],
   "source": [
    "#Graficamos las predicciones y los datos originales para realizar la comparación\n",
    "plt.plot(x, y, 'bo', label=\"y-original\")\n",
    "plt.plot(x, y_pred5, label=\"y-predecida con y=a*x^2+b*x+c\")\n",
    "plt.xlabel('x')\n",
    "plt.ylabel('y')\n",
    "plt.legend(loc='best', fancybox=True, shadow=True)\n",
    "plt.grid(True)\n",
    "plt.show()"
   ]
  },
  {
   "cell_type": "code",
   "execution_count": 234,
   "metadata": {},
   "outputs": [
    {
     "name": "stdout",
     "output_type": "stream",
     "text": [
      "El coeficiente de determinación es: 0.019989447481657985\n",
      "El coeficiente de correlación es: 0.14138404252834896\n"
     ]
    }
   ],
   "source": [
    "#Calculamos el coeficiente de determinación del modelo\n",
    "R2_Modelo2 = r2_score(y,y_pred5)\n",
    "print('El coeficiente de determinación es:',R2_Modelo2)\n",
    "#Calculamos el coefieciente de correlación del modelo\n",
    "R = np.sqrt(R2_Modelo2)\n",
    "print('El coeficiente de correlación es:',R)"
   ]
  },
  {
   "cell_type": "markdown",
   "metadata": {},
   "source": [
    "**MODELO 2**"
   ]
  },
  {
   "cell_type": "markdown",
   "metadata": {},
   "source": [
    "Función exponencial negativa, ya use esa función por lo que solo la mando a llamar"
   ]
  },
  {
   "cell_type": "code",
   "execution_count": 306,
   "metadata": {},
   "outputs": [
    {
     "data": {
      "text/plain": [
       "array([-0.32312571,  0.01909471,  1.90224092])"
      ]
     },
     "execution_count": 306,
     "metadata": {},
     "output_type": "execute_result"
    }
   ],
   "source": [
    "#Ajustamos los parámetros de la función curve_fit\n",
    "parametros6, covs = curve_fit(funcion_exponencial,df['availability_365'],df['host_total_listings_count'])\n",
    "parametros6"
   ]
  },
  {
   "cell_type": "code",
   "execution_count": 307,
   "metadata": {},
   "outputs": [
    {
     "data": {
      "text/html": [
       "<div>\n",
       "<style scoped>\n",
       "    .dataframe tbody tr th:only-of-type {\n",
       "        vertical-align: middle;\n",
       "    }\n",
       "\n",
       "    .dataframe tbody tr th {\n",
       "        vertical-align: top;\n",
       "    }\n",
       "\n",
       "    .dataframe thead th {\n",
       "        text-align: right;\n",
       "    }\n",
       "</style>\n",
       "<table border=\"1\" class=\"dataframe\">\n",
       "  <thead>\n",
       "    <tr style=\"text-align: right;\">\n",
       "      <th></th>\n",
       "      <th>availability_365</th>\n",
       "    </tr>\n",
       "  </thead>\n",
       "  <tbody>\n",
       "    <tr>\n",
       "      <th>0</th>\n",
       "      <td>1.901229</td>\n",
       "    </tr>\n",
       "    <tr>\n",
       "      <th>1</th>\n",
       "      <td>1.836008</td>\n",
       "    </tr>\n",
       "    <tr>\n",
       "      <th>2</th>\n",
       "      <td>1.840878</td>\n",
       "    </tr>\n",
       "    <tr>\n",
       "      <th>3</th>\n",
       "      <td>1.852503</td>\n",
       "    </tr>\n",
       "    <tr>\n",
       "      <th>4</th>\n",
       "      <td>1.889421</td>\n",
       "    </tr>\n",
       "    <tr>\n",
       "      <th>...</th>\n",
       "      <td>...</td>\n",
       "    </tr>\n",
       "    <tr>\n",
       "      <th>9886</th>\n",
       "      <td>1.901742</td>\n",
       "    </tr>\n",
       "    <tr>\n",
       "      <th>9887</th>\n",
       "      <td>1.901564</td>\n",
       "    </tr>\n",
       "    <tr>\n",
       "      <th>9888</th>\n",
       "      <td>1.843177</td>\n",
       "    </tr>\n",
       "    <tr>\n",
       "      <th>9889</th>\n",
       "      <td>1.901937</td>\n",
       "    </tr>\n",
       "    <tr>\n",
       "      <th>9890</th>\n",
       "      <td>1.901919</td>\n",
       "    </tr>\n",
       "  </tbody>\n",
       "</table>\n",
       "<p>9891 rows × 1 columns</p>\n",
       "</div>"
      ],
      "text/plain": [
       "      availability_365\n",
       "0             1.901229\n",
       "1             1.836008\n",
       "2             1.840878\n",
       "3             1.852503\n",
       "4             1.889421\n",
       "...                ...\n",
       "9886          1.901742\n",
       "9887          1.901564\n",
       "9888          1.843177\n",
       "9889          1.901937\n",
       "9890          1.901919\n",
       "\n",
       "[9891 rows x 1 columns]"
      ]
     },
     "execution_count": 307,
     "metadata": {},
     "output_type": "execute_result"
    }
   ],
   "source": [
    "# Predicciones\n",
    "y_pred6 = funcion_exponencial(x, *parametros6)\n",
    "#Calculamos las predicciones y reestructuramos el vector de predicciones\n",
    "y_pred6"
   ]
  },
  {
   "cell_type": "code",
   "execution_count": 308,
   "metadata": {},
   "outputs": [
    {
     "data": {
      "image/png": "[encoded data removed]",
      "text/plain": [
       "<Figure size 640x480 with 1 Axes>"
      ]
     },
     "metadata": {},
     "output_type": "display_data"
    }
   ],
   "source": [
    "#Graficamos las predicciones y los datos originales para realizar la comparación\n",
    "plt.plot(x, y, 'bo', label=\"y-original\")\n",
    "plt.plot(x, y_pred6, label=\"y-predecida con y=a * np.exp(-b * x) + c\")\n",
    "plt.xlabel('x')\n",
    "plt.ylabel('y')\n",
    "plt.legend(loc='best', fancybox=True, shadow=True)\n",
    "plt.grid(True)\n",
    "plt.show()"
   ]
  },
  {
   "cell_type": "code",
   "execution_count": 238,
   "metadata": {},
   "outputs": [
    {
     "name": "stdout",
     "output_type": "stream",
     "text": [
      "El coeficiente de determinación es: 0.019606855171750537\n",
      "El coeficiente de correlación es: 0.1400244806158928\n"
     ]
    }
   ],
   "source": [
    "#Calculamos el coeficiente de determinación del modelo\n",
    "R2_Modelo2 = r2_score(y,y_pred6)\n",
    "print('El coeficiente de determinación es:',R2_Modelo2)\n",
    "#Calculamos el coefieciente de correlación del modelo\n",
    "R = np.sqrt(R2_Modelo2)\n",
    "print('El coeficiente de correlación es:',R)"
   ]
  },
  {
   "cell_type": "markdown",
   "metadata": {},
   "source": [
    "# Accommodates"
   ]
  },
  {
   "cell_type": "markdown",
   "metadata": {},
   "source": [
    "**REGRESIÓN LINEAL**"
   ]
  },
  {
   "cell_type": "code",
   "execution_count": 239,
   "metadata": {},
   "outputs": [
    {
     "name": "stdout",
     "output_type": "stream",
     "text": [
      "Coeficiente de determinación: 0.35778929719683805\n",
      "Coeficiente de correlación: 0.5981549107019335\n"
     ]
    }
   ],
   "source": [
    "# Declaramos las variables correctamente\n",
    "Vari_Independiente = df[['bedrooms']]  \n",
    "Vari_Dependiente = df['accommodates']      \n",
    "\n",
    "# Modelo de regresión lineal\n",
    "from sklearn.linear_model import LinearRegression\n",
    "model = LinearRegression()\n",
    "\n",
    "# Ajustar el modelo\n",
    "model.fit(X=Vari_Independiente, y=Vari_Dependiente)\n",
    "\n",
    "# Coeficientes\n",
    "coef_Deter = model.score(X=Vari_Independiente, y=Vari_Dependiente)\n",
    "print(f'Coeficiente de determinación:', coef_Deter)\n",
    "\n",
    "coef_Correl = np.sqrt(coef_Deter)\n",
    "print(f'Coeficiente de correlación:', coef_Correl)"
   ]
  },
  {
   "cell_type": "markdown",
   "metadata": {},
   "source": [
    "**REGRESIÓN NO LINEAL**"
   ]
  },
  {
   "cell_type": "code",
   "execution_count": 240,
   "metadata": {},
   "outputs": [],
   "source": [
    "#Declaramos las variables dependientes e independientes para la regresión  no lineal\n",
    "Vars_Indep = df[['bedrooms']]\n",
    "Var_Dep = df['accommodates']\n",
    "\n",
    "#Redefinimos\n",
    "x = Vars_Indep\n",
    "y = Var_Dep"
   ]
  },
  {
   "cell_type": "markdown",
   "metadata": {},
   "source": [
    "**MODELO 1**"
   ]
  },
  {
   "cell_type": "code",
   "execution_count": 241,
   "metadata": {},
   "outputs": [],
   "source": [
    "def funcion_valor_absoluto(x, a, b, c):\n",
    "    return a * np.abs(x) + b * x + c"
   ]
  },
  {
   "cell_type": "code",
   "execution_count": 242,
   "metadata": {},
   "outputs": [
    {
     "data": {
      "text/plain": [
       "array([-111.186204  ,  112.44006326,    1.46968724])"
      ]
     },
     "execution_count": 242,
     "metadata": {},
     "output_type": "execute_result"
    }
   ],
   "source": [
    "#Ajustamos los parámetros de la función curve_fit\n",
    "parametros7, covs = curve_fit(funcion_valor_absoluto,df['bedrooms'],df['accommodates'])\n",
    "parametros7"
   ]
  },
  {
   "cell_type": "code",
   "execution_count": 243,
   "metadata": {},
   "outputs": [
    {
     "data": {
      "text/html": [
       "<div>\n",
       "<style scoped>\n",
       "    .dataframe tbody tr th:only-of-type {\n",
       "        vertical-align: middle;\n",
       "    }\n",
       "\n",
       "    .dataframe tbody tr th {\n",
       "        vertical-align: top;\n",
       "    }\n",
       "\n",
       "    .dataframe thead th {\n",
       "        text-align: right;\n",
       "    }\n",
       "</style>\n",
       "<table border=\"1\" class=\"dataframe\">\n",
       "  <thead>\n",
       "    <tr style=\"text-align: right;\">\n",
       "      <th></th>\n",
       "      <th>bedrooms</th>\n",
       "    </tr>\n",
       "  </thead>\n",
       "  <tbody>\n",
       "    <tr>\n",
       "      <th>0</th>\n",
       "      <td>5.231265</td>\n",
       "    </tr>\n",
       "    <tr>\n",
       "      <th>1</th>\n",
       "      <td>2.723546</td>\n",
       "    </tr>\n",
       "    <tr>\n",
       "      <th>2</th>\n",
       "      <td>2.723546</td>\n",
       "    </tr>\n",
       "    <tr>\n",
       "      <th>3</th>\n",
       "      <td>2.723546</td>\n",
       "    </tr>\n",
       "    <tr>\n",
       "      <th>4</th>\n",
       "      <td>5.231265</td>\n",
       "    </tr>\n",
       "    <tr>\n",
       "      <th>...</th>\n",
       "      <td>...</td>\n",
       "    </tr>\n",
       "    <tr>\n",
       "      <th>9886</th>\n",
       "      <td>3.977406</td>\n",
       "    </tr>\n",
       "    <tr>\n",
       "      <th>9887</th>\n",
       "      <td>3.977406</td>\n",
       "    </tr>\n",
       "    <tr>\n",
       "      <th>9888</th>\n",
       "      <td>2.723546</td>\n",
       "    </tr>\n",
       "    <tr>\n",
       "      <th>9889</th>\n",
       "      <td>3.977406</td>\n",
       "    </tr>\n",
       "    <tr>\n",
       "      <th>9890</th>\n",
       "      <td>2.723546</td>\n",
       "    </tr>\n",
       "  </tbody>\n",
       "</table>\n",
       "<p>9891 rows × 1 columns</p>\n",
       "</div>"
      ],
      "text/plain": [
       "      bedrooms\n",
       "0     5.231265\n",
       "1     2.723546\n",
       "2     2.723546\n",
       "3     2.723546\n",
       "4     5.231265\n",
       "...        ...\n",
       "9886  3.977406\n",
       "9887  3.977406\n",
       "9888  2.723546\n",
       "9889  3.977406\n",
       "9890  2.723546\n",
       "\n",
       "[9891 rows x 1 columns]"
      ]
     },
     "execution_count": 243,
     "metadata": {},
     "output_type": "execute_result"
    }
   ],
   "source": [
    "# Predicciones\n",
    "y_pred7 = funcion_valor_absoluto(x, *parametros7)\n",
    "#Calculamos las predicciones y reestructuramos el vector de predicciones\n",
    "y_pred7"
   ]
  },
  {
   "cell_type": "code",
   "execution_count": 244,
   "metadata": {},
   "outputs": [
    {
     "data": {
      "image/png": "[encoded data removed]",
      "text/plain": [
       "<Figure size 640x480 with 1 Axes>"
      ]
     },
     "metadata": {},
     "output_type": "display_data"
    }
   ],
   "source": [
    "#Graficamos las predicciones y los datos originales para realizar la comparación\n",
    "plt.plot(x, y, 'bo', label=\"y-original\")\n",
    "plt.plot(x, y_pred7, label=\"y-predecida con y=a*np.abs(x) + b*x + c\")\n",
    "plt.xlabel('x')\n",
    "plt.ylabel('y')\n",
    "plt.legend(loc='best', fancybox=True, shadow=True)\n",
    "plt.grid(True)\n",
    "plt.show()"
   ]
  },
  {
   "cell_type": "code",
   "execution_count": 245,
   "metadata": {},
   "outputs": [
    {
     "name": "stdout",
     "output_type": "stream",
     "text": [
      "El coeficiente de determinación es: 0.3577892971968377\n",
      "El coeficiente de correlación es: 0.5981549107019333\n"
     ]
    }
   ],
   "source": [
    "#Calculamos el coeficiente de determinación del modelo\n",
    "R2_Modelo2 = r2_score(y,y_pred7)\n",
    "print('El coeficiente de determinación es:',R2_Modelo2)\n",
    "#Calculamos el coefieciente de correlación del modelo\n",
    "R = np.sqrt(R2_Modelo2)\n",
    "print('El coeficiente de correlación es:',R)"
   ]
  },
  {
   "cell_type": "markdown",
   "metadata": {},
   "source": [
    "**MODELO 2**"
   ]
  },
  {
   "cell_type": "code",
   "execution_count": 246,
   "metadata": {},
   "outputs": [
    {
     "data": {
      "text/plain": [
       "array([0.15443864, 0.77377217, 1.7641265 ])"
      ]
     },
     "execution_count": 246,
     "metadata": {},
     "output_type": "execute_result"
    }
   ],
   "source": [
    "#Ajustamos los parámetros de la función curve_fit\n",
    "parametros8, covs = curve_fit(funcion_cuadratica,df['bedrooms'],df['accommodates'])\n",
    "parametros8"
   ]
  },
  {
   "cell_type": "code",
   "execution_count": 247,
   "metadata": {},
   "outputs": [
    {
     "data": {
      "text/html": [
       "<div>\n",
       "<style scoped>\n",
       "    .dataframe tbody tr th:only-of-type {\n",
       "        vertical-align: middle;\n",
       "    }\n",
       "\n",
       "    .dataframe tbody tr th {\n",
       "        vertical-align: top;\n",
       "    }\n",
       "\n",
       "    .dataframe thead th {\n",
       "        text-align: right;\n",
       "    }\n",
       "</style>\n",
       "<table border=\"1\" class=\"dataframe\">\n",
       "  <thead>\n",
       "    <tr style=\"text-align: right;\">\n",
       "      <th></th>\n",
       "      <th>bedrooms</th>\n",
       "    </tr>\n",
       "  </thead>\n",
       "  <tbody>\n",
       "    <tr>\n",
       "      <th>0</th>\n",
       "      <td>5.475391</td>\n",
       "    </tr>\n",
       "    <tr>\n",
       "      <th>1</th>\n",
       "      <td>2.692337</td>\n",
       "    </tr>\n",
       "    <tr>\n",
       "      <th>2</th>\n",
       "      <td>2.692337</td>\n",
       "    </tr>\n",
       "    <tr>\n",
       "      <th>3</th>\n",
       "      <td>2.692337</td>\n",
       "    </tr>\n",
       "    <tr>\n",
       "      <th>4</th>\n",
       "      <td>5.475391</td>\n",
       "    </tr>\n",
       "    <tr>\n",
       "      <th>...</th>\n",
       "      <td>...</td>\n",
       "    </tr>\n",
       "    <tr>\n",
       "      <th>9886</th>\n",
       "      <td>3.929425</td>\n",
       "    </tr>\n",
       "    <tr>\n",
       "      <th>9887</th>\n",
       "      <td>3.929425</td>\n",
       "    </tr>\n",
       "    <tr>\n",
       "      <th>9888</th>\n",
       "      <td>2.692337</td>\n",
       "    </tr>\n",
       "    <tr>\n",
       "      <th>9889</th>\n",
       "      <td>3.929425</td>\n",
       "    </tr>\n",
       "    <tr>\n",
       "      <th>9890</th>\n",
       "      <td>2.692337</td>\n",
       "    </tr>\n",
       "  </tbody>\n",
       "</table>\n",
       "<p>9891 rows × 1 columns</p>\n",
       "</div>"
      ],
      "text/plain": [
       "      bedrooms\n",
       "0     5.475391\n",
       "1     2.692337\n",
       "2     2.692337\n",
       "3     2.692337\n",
       "4     5.475391\n",
       "...        ...\n",
       "9886  3.929425\n",
       "9887  3.929425\n",
       "9888  2.692337\n",
       "9889  3.929425\n",
       "9890  2.692337\n",
       "\n",
       "[9891 rows x 1 columns]"
      ]
     },
     "execution_count": 247,
     "metadata": {},
     "output_type": "execute_result"
    }
   ],
   "source": [
    "# Predicciones\n",
    "y_pred8 = funcion_cuadratica(x, *parametros8)\n",
    "#Calculamos las predicciones y reestructuramos el vector de predicciones\n",
    "y_pred8"
   ]
  },
  {
   "cell_type": "code",
   "execution_count": 248,
   "metadata": {},
   "outputs": [
    {
     "data": {
      "image/png": "[encoded data removed]",
      "text/plain": [
       "<Figure size 640x480 with 1 Axes>"
      ]
     },
     "metadata": {},
     "output_type": "display_data"
    }
   ],
   "source": [
    "#Graficamos las predicciones y los datos originales para realizar la comparación\n",
    "plt.plot(x, y, 'bo', label=\"y-original\")\n",
    "plt.plot(x, y_pred8, label=\"y-predecida con y = ax^2 + bx + c\")\n",
    "plt.xlabel('x')\n",
    "plt.ylabel('y')\n",
    "plt.legend(loc='best', fancybox=True, shadow=True)\n",
    "plt.grid(True)\n",
    "plt.show()"
   ]
  },
  {
   "cell_type": "code",
   "execution_count": 249,
   "metadata": {},
   "outputs": [
    {
     "name": "stdout",
     "output_type": "stream",
     "text": [
      "El coeficiente de determinación es: 0.36309497481203423\n",
      "El coeficiente de correlación es: 0.6025736260508207\n"
     ]
    }
   ],
   "source": [
    "#Calculamos el coeficiente de determinación del modelo\n",
    "R2_Modelo2 = r2_score(y,y_pred8)\n",
    "print('El coeficiente de determinación es:',R2_Modelo2)\n",
    "#Calculamos el coefieciente de correlación del modelo\n",
    "R = np.sqrt(R2_Modelo2)\n",
    "print('El coeficiente de correlación es:',R)"
   ]
  },
  {
   "cell_type": "markdown",
   "metadata": {},
   "source": [
    "# Reviews_per_month"
   ]
  },
  {
   "cell_type": "markdown",
   "metadata": {},
   "source": [
    "**Regresión lineal**"
   ]
  },
  {
   "cell_type": "code",
   "execution_count": 250,
   "metadata": {},
   "outputs": [
    {
     "name": "stdout",
     "output_type": "stream",
     "text": [
      "Coeficiente de determinación: 0.005321358986509539\n",
      "Coeficiente de correlación: 0.07294764551724435\n"
     ]
    }
   ],
   "source": [
    "# Declaramos las variables correctamente\n",
    "Vari_Independiente = df[['price']]  \n",
    "Vari_Dependiente = df['reviews_per_month']      \n",
    "\n",
    "# Modelo de regresión lineal\n",
    "from sklearn.linear_model import LinearRegression\n",
    "model = LinearRegression()\n",
    "\n",
    "# Ajustar el modelo\n",
    "model.fit(X=Vari_Independiente, y=Vari_Dependiente)\n",
    "\n",
    "# Coeficientes\n",
    "coef_Deter = model.score(X=Vari_Independiente, y=Vari_Dependiente)\n",
    "print(f'Coeficiente de determinación:', coef_Deter)\n",
    "\n",
    "coef_Correl = np.sqrt(coef_Deter)\n",
    "print(f'Coeficiente de correlación:', coef_Correl)"
   ]
  },
  {
   "cell_type": "markdown",
   "metadata": {},
   "source": [
    "**Regresión no lineal**"
   ]
  },
  {
   "cell_type": "code",
   "execution_count": 251,
   "metadata": {},
   "outputs": [],
   "source": [
    "#Declaramos las variables dependientes e independientes para la regresión  no lineal\n",
    "Vars_Indep = df[['price']]\n",
    "Var_Dep = df['reviews_per_month']\n",
    "\n",
    "#Redefinimos\n",
    "x = Vars_Indep\n",
    "y = Var_Dep"
   ]
  },
  {
   "cell_type": "markdown",
   "metadata": {},
   "source": [
    "**MODELO 1**"
   ]
  },
  {
   "cell_type": "code",
   "execution_count": 252,
   "metadata": {},
   "outputs": [
    {
     "data": {
      "text/plain": [
       "array([ 1.12463906e-03, -1.86998305e-01,  8.49175474e+00])"
      ]
     },
     "execution_count": 252,
     "metadata": {},
     "output_type": "execute_result"
    }
   ],
   "source": [
    "#Ajustamos los parámetros de la función curve_fit\n",
    "parametros9, covs = curve_fit(funcion_cuadratica,df['price'],df['reviews_per_month'])\n",
    "parametros9"
   ]
  },
  {
   "cell_type": "code",
   "execution_count": 253,
   "metadata": {},
   "outputs": [
    {
     "data": {
      "text/html": [
       "<div>\n",
       "<style scoped>\n",
       "    .dataframe tbody tr th:only-of-type {\n",
       "        vertical-align: middle;\n",
       "    }\n",
       "\n",
       "    .dataframe tbody tr th {\n",
       "        vertical-align: top;\n",
       "    }\n",
       "\n",
       "    .dataframe thead th {\n",
       "        text-align: right;\n",
       "    }\n",
       "</style>\n",
       "<table border=\"1\" class=\"dataframe\">\n",
       "  <thead>\n",
       "    <tr style=\"text-align: right;\">\n",
       "      <th></th>\n",
       "      <th>price</th>\n",
       "    </tr>\n",
       "  </thead>\n",
       "  <tbody>\n",
       "    <tr>\n",
       "      <th>0</th>\n",
       "      <td>0.735071</td>\n",
       "    </tr>\n",
       "    <tr>\n",
       "      <th>1</th>\n",
       "      <td>1.038315</td>\n",
       "    </tr>\n",
       "    <tr>\n",
       "      <th>2</th>\n",
       "      <td>0.735071</td>\n",
       "    </tr>\n",
       "    <tr>\n",
       "      <th>3</th>\n",
       "      <td>0.745109</td>\n",
       "    </tr>\n",
       "    <tr>\n",
       "      <th>4</th>\n",
       "      <td>0.735071</td>\n",
       "    </tr>\n",
       "    <tr>\n",
       "      <th>...</th>\n",
       "      <td>...</td>\n",
       "    </tr>\n",
       "    <tr>\n",
       "      <th>9886</th>\n",
       "      <td>0.735071</td>\n",
       "    </tr>\n",
       "    <tr>\n",
       "      <th>9887</th>\n",
       "      <td>0.719967</td>\n",
       "    </tr>\n",
       "    <tr>\n",
       "      <th>9888</th>\n",
       "      <td>0.884181</td>\n",
       "    </tr>\n",
       "    <tr>\n",
       "      <th>9889</th>\n",
       "      <td>0.735071</td>\n",
       "    </tr>\n",
       "    <tr>\n",
       "      <th>9890</th>\n",
       "      <td>1.320557</td>\n",
       "    </tr>\n",
       "  </tbody>\n",
       "</table>\n",
       "<p>9891 rows × 1 columns</p>\n",
       "</div>"
      ],
      "text/plain": [
       "         price\n",
       "0     0.735071\n",
       "1     1.038315\n",
       "2     0.735071\n",
       "3     0.745109\n",
       "4     0.735071\n",
       "...        ...\n",
       "9886  0.735071\n",
       "9887  0.719967\n",
       "9888  0.884181\n",
       "9889  0.735071\n",
       "9890  1.320557\n",
       "\n",
       "[9891 rows x 1 columns]"
      ]
     },
     "execution_count": 253,
     "metadata": {},
     "output_type": "execute_result"
    }
   ],
   "source": [
    "# Predicciones\n",
    "y_pred9 = funcion_cuadratica(x, *parametros9)\n",
    "#Calculamos las predicciones y reestructuramos el vector de predicciones\n",
    "y_pred9"
   ]
  },
  {
   "cell_type": "code",
   "execution_count": 254,
   "metadata": {},
   "outputs": [
    {
     "data": {
      "image/png": "[encoded data removed]",
      "text/plain": [
       "<Figure size 640x480 with 1 Axes>"
      ]
     },
     "metadata": {},
     "output_type": "display_data"
    }
   ],
   "source": [
    "#Graficamos las predicciones y los datos originales para realizar la comparación\n",
    "plt.plot(x, y, 'bo', label=\"y-original\")\n",
    "plt.plot(x, y_pred9, label=\"y-predecida con y = ax^2 + bx + c\")\n",
    "plt.xlabel('x')\n",
    "plt.ylabel('y')\n",
    "plt.legend(loc='best', fancybox=True, shadow=True)\n",
    "plt.grid(True)\n",
    "plt.show()"
   ]
  },
  {
   "cell_type": "code",
   "execution_count": 255,
   "metadata": {},
   "outputs": [
    {
     "name": "stdout",
     "output_type": "stream",
     "text": [
      "El coeficiente de determinación es: 0.023323152721714924\n",
      "El coeficiente de correlación es: 0.15271919565567035\n"
     ]
    }
   ],
   "source": [
    "#Calculamos el coeficiente de determinación del modelo\n",
    "R2_Modelo2 = r2_score(y,y_pred9)\n",
    "print('El coeficiente de determinación es:',R2_Modelo2)\n",
    "#Calculamos el coefieciente de correlación del modelo\n",
    "R = np.sqrt(R2_Modelo2)\n",
    "print('El coeficiente de correlación es:',R)"
   ]
  },
  {
   "cell_type": "markdown",
   "metadata": {},
   "source": [
    "**MODELO 2**"
   ]
  },
  {
   "cell_type": "code",
   "execution_count": 256,
   "metadata": {},
   "outputs": [],
   "source": [
    "def funcion_inversa(x, a):\n",
    "    return 1 / (a * x)"
   ]
  },
  {
   "cell_type": "code",
   "execution_count": 257,
   "metadata": {},
   "outputs": [
    {
     "data": {
      "text/plain": [
       "array([0.01638427])"
      ]
     },
     "execution_count": 257,
     "metadata": {},
     "output_type": "execute_result"
    }
   ],
   "source": [
    "#Ajustamos los parámetros de la función curve_fit\n",
    "parametros10, covs = curve_fit(funcion_inversa,df['price'],df['reviews_per_month'])\n",
    "parametros10"
   ]
  },
  {
   "cell_type": "code",
   "execution_count": 258,
   "metadata": {},
   "outputs": [
    {
     "data": {
      "text/html": [
       "<div>\n",
       "<style scoped>\n",
       "    .dataframe tbody tr th:only-of-type {\n",
       "        vertical-align: middle;\n",
       "    }\n",
       "\n",
       "    .dataframe tbody tr th {\n",
       "        vertical-align: top;\n",
       "    }\n",
       "\n",
       "    .dataframe thead th {\n",
       "        text-align: right;\n",
       "    }\n",
       "</style>\n",
       "<table border=\"1\" class=\"dataframe\">\n",
       "  <thead>\n",
       "    <tr style=\"text-align: right;\">\n",
       "      <th></th>\n",
       "      <th>price</th>\n",
       "    </tr>\n",
       "  </thead>\n",
       "  <tbody>\n",
       "    <tr>\n",
       "      <th>0</th>\n",
       "      <td>0.769662</td>\n",
       "    </tr>\n",
       "    <tr>\n",
       "      <th>1</th>\n",
       "      <td>0.610342</td>\n",
       "    </tr>\n",
       "    <tr>\n",
       "      <th>2</th>\n",
       "      <td>0.769662</td>\n",
       "    </tr>\n",
       "    <tr>\n",
       "      <th>3</th>\n",
       "      <td>0.693570</td>\n",
       "    </tr>\n",
       "    <tr>\n",
       "      <th>4</th>\n",
       "      <td>0.769662</td>\n",
       "    </tr>\n",
       "    <tr>\n",
       "      <th>...</th>\n",
       "      <td>...</td>\n",
       "    </tr>\n",
       "    <tr>\n",
       "      <th>9886</th>\n",
       "      <td>0.769662</td>\n",
       "    </tr>\n",
       "    <tr>\n",
       "      <th>9887</th>\n",
       "      <td>0.744319</td>\n",
       "    </tr>\n",
       "    <tr>\n",
       "      <th>9888</th>\n",
       "      <td>0.859636</td>\n",
       "    </tr>\n",
       "    <tr>\n",
       "      <th>9889</th>\n",
       "      <td>0.769662</td>\n",
       "    </tr>\n",
       "    <tr>\n",
       "      <th>9890</th>\n",
       "      <td>1.017236</td>\n",
       "    </tr>\n",
       "  </tbody>\n",
       "</table>\n",
       "<p>9891 rows × 1 columns</p>\n",
       "</div>"
      ],
      "text/plain": [
       "         price\n",
       "0     0.769662\n",
       "1     0.610342\n",
       "2     0.769662\n",
       "3     0.693570\n",
       "4     0.769662\n",
       "...        ...\n",
       "9886  0.769662\n",
       "9887  0.744319\n",
       "9888  0.859636\n",
       "9889  0.769662\n",
       "9890  1.017236\n",
       "\n",
       "[9891 rows x 1 columns]"
      ]
     },
     "execution_count": 258,
     "metadata": {},
     "output_type": "execute_result"
    }
   ],
   "source": [
    "# Predicciones\n",
    "y_pred10 = funcion_inversa(x, *parametros10)\n",
    "#Calculamos las predicciones y reestructuramos el vector de predicciones\n",
    "y_pred10"
   ]
  },
  {
   "cell_type": "code",
   "execution_count": 259,
   "metadata": {},
   "outputs": [
    {
     "data": {
      "image/png": "[encoded data removed]",
      "text/plain": [
       "<Figure size 640x480 with 1 Axes>"
      ]
     },
     "metadata": {},
     "output_type": "display_data"
    }
   ],
   "source": [
    "#Graficamos las predicciones y los datos originales para realizar la comparación\n",
    "plt.plot(x, y, 'bo', label=\"y-original\")\n",
    "plt.plot(x, y_pred10, label=\"y-predecida con y = 1/a*x \")\n",
    "plt.xlabel('x')\n",
    "plt.ylabel('y')\n",
    "plt.legend(loc='best', fancybox=True, shadow=True)\n",
    "plt.grid(True)\n",
    "plt.show()"
   ]
  },
  {
   "cell_type": "code",
   "execution_count": 260,
   "metadata": {},
   "outputs": [
    {
     "name": "stdout",
     "output_type": "stream",
     "text": [
      "El coeficiente de determinación es: 0.008871277917241405\n",
      "El coeficiente de correlación es: 0.0941874615712803\n"
     ]
    }
   ],
   "source": [
    "#Calculamos el coeficiente de determinación del modelo\n",
    "R2_Modelo2 = r2_score(y,y_pred10)\n",
    "print('El coeficiente de determinación es:',R2_Modelo2)\n",
    "#Calculamos el coefieciente de correlación del modelo\n",
    "R = np.sqrt(R2_Modelo2)\n",
    "print('El coeficiente de correlación es:',R)"
   ]
  },
  {
   "cell_type": "markdown",
   "metadata": {},
   "source": [
    "# Price"
   ]
  },
  {
   "cell_type": "markdown",
   "metadata": {},
   "source": [
    "**Regresión lineal**"
   ]
  },
  {
   "cell_type": "code",
   "execution_count": 269,
   "metadata": {},
   "outputs": [
    {
     "name": "stdout",
     "output_type": "stream",
     "text": [
      "Coeficiente de determinación: 0.008686614212002786\n",
      "Coeficiente de correlación: 0.09320200755350061\n"
     ]
    }
   ],
   "source": [
    "# Declaramos las variables correctamente\n",
    "Vari_Independiente = df[['accommodates']]  \n",
    "Vari_Dependiente = df['price']      \n",
    "\n",
    "# Modelo de regresión lineal\n",
    "from sklearn.linear_model import LinearRegression\n",
    "model = LinearRegression()\n",
    "\n",
    "# Ajustar el modelo\n",
    "model.fit(X=Vari_Independiente, y=Vari_Dependiente)\n",
    "\n",
    "# Coeficientes\n",
    "coef_Deter = model.score(X=Vari_Independiente, y=Vari_Dependiente)\n",
    "print(f'Coeficiente de determinación:', coef_Deter)\n",
    "\n",
    "coef_Correl = np.sqrt(coef_Deter)\n",
    "print(f'Coeficiente de correlación:', coef_Correl)"
   ]
  },
  {
   "cell_type": "markdown",
   "metadata": {},
   "source": [
    "**Regresión no lineal**"
   ]
  },
  {
   "cell_type": "code",
   "execution_count": 309,
   "metadata": {},
   "outputs": [],
   "source": [
    "#Declaramos las variables dependientes e independientes para la regresión  no lineal\n",
    "Vars_Indep = df[['accommodates']]\n",
    "Var_Dep = df['price']\n",
    "\n",
    "#Redefinimos\n",
    "x = Vars_Indep\n",
    "y = Var_Dep"
   ]
  },
  {
   "cell_type": "markdown",
   "metadata": {},
   "source": [
    "**MODELO 1**"
   ]
  },
  {
   "cell_type": "code",
   "execution_count": 310,
   "metadata": {},
   "outputs": [
    {
     "data": {
      "text/plain": [
       "array([-1.58794339e-02,  5.11640166e-01,  7.79357099e+01])"
      ]
     },
     "execution_count": 310,
     "metadata": {},
     "output_type": "execute_result"
    }
   ],
   "source": [
    "#Ajustamos los parámetros de la función curve_fit\n",
    "parametros11, covs = curve_fit(funcion_cuadratica,df['accommodates'],df['price'])\n",
    "parametros11"
   ]
  },
  {
   "cell_type": "code",
   "execution_count": 311,
   "metadata": {},
   "outputs": [
    {
     "data": {
      "text/html": [
       "<div>\n",
       "<style scoped>\n",
       "    .dataframe tbody tr th:only-of-type {\n",
       "        vertical-align: middle;\n",
       "    }\n",
       "\n",
       "    .dataframe tbody tr th {\n",
       "        vertical-align: top;\n",
       "    }\n",
       "\n",
       "    .dataframe thead th {\n",
       "        text-align: right;\n",
       "    }\n",
       "</style>\n",
       "<table border=\"1\" class=\"dataframe\">\n",
       "  <thead>\n",
       "    <tr style=\"text-align: right;\">\n",
       "      <th></th>\n",
       "      <th>accommodates</th>\n",
       "    </tr>\n",
       "  </thead>\n",
       "  <tbody>\n",
       "    <tr>\n",
       "      <th>0</th>\n",
       "      <td>80.096925</td>\n",
       "    </tr>\n",
       "    <tr>\n",
       "      <th>1</th>\n",
       "      <td>79.728200</td>\n",
       "    </tr>\n",
       "    <tr>\n",
       "      <th>2</th>\n",
       "      <td>78.895472</td>\n",
       "    </tr>\n",
       "    <tr>\n",
       "      <th>3</th>\n",
       "      <td>78.895472</td>\n",
       "    </tr>\n",
       "    <tr>\n",
       "      <th>4</th>\n",
       "      <td>80.433891</td>\n",
       "    </tr>\n",
       "    <tr>\n",
       "      <th>...</th>\n",
       "      <td>...</td>\n",
       "    </tr>\n",
       "    <tr>\n",
       "      <th>9886</th>\n",
       "      <td>80.096925</td>\n",
       "    </tr>\n",
       "    <tr>\n",
       "      <th>9887</th>\n",
       "      <td>80.433891</td>\n",
       "    </tr>\n",
       "    <tr>\n",
       "      <th>9888</th>\n",
       "      <td>78.895472</td>\n",
       "    </tr>\n",
       "    <tr>\n",
       "      <th>9889</th>\n",
       "      <td>79.728200</td>\n",
       "    </tr>\n",
       "    <tr>\n",
       "      <th>9890</th>\n",
       "      <td>78.895472</td>\n",
       "    </tr>\n",
       "  </tbody>\n",
       "</table>\n",
       "<p>9891 rows × 1 columns</p>\n",
       "</div>"
      ],
      "text/plain": [
       "      accommodates\n",
       "0        80.096925\n",
       "1        79.728200\n",
       "2        78.895472\n",
       "3        78.895472\n",
       "4        80.433891\n",
       "...            ...\n",
       "9886     80.096925\n",
       "9887     80.433891\n",
       "9888     78.895472\n",
       "9889     79.728200\n",
       "9890     78.895472\n",
       "\n",
       "[9891 rows x 1 columns]"
      ]
     },
     "execution_count": 311,
     "metadata": {},
     "output_type": "execute_result"
    }
   ],
   "source": [
    "# Predicciones\n",
    "y_pred11 = funcion_cuadratica(x, *parametros11)\n",
    "#Calculamos las predicciones y reestructuramos el vector de predicciones\n",
    "y_pred11"
   ]
  },
  {
   "cell_type": "code",
   "execution_count": 312,
   "metadata": {},
   "outputs": [
    {
     "data": {
      "image/png": "[encoded data removed]",
      "text/plain": [
       "<Figure size 640x480 with 1 Axes>"
      ]
     },
     "metadata": {},
     "output_type": "display_data"
    }
   ],
   "source": [
    "#Graficamos las predicciones y los datos originales para realizar la comparación\n",
    "plt.plot(x, y, 'bo', label=\"y-original\")\n",
    "plt.plot(x, y_pred11, label=\"y-predecida con y = ax^2 + bx + c \")\n",
    "plt.xlabel('x')\n",
    "plt.ylabel('y')\n",
    "plt.legend(loc='best', fancybox=True, shadow=True)\n",
    "plt.grid(True)\n",
    "plt.show()"
   ]
  },
  {
   "cell_type": "code",
   "execution_count": 274,
   "metadata": {},
   "outputs": [
    {
     "name": "stdout",
     "output_type": "stream",
     "text": [
      "El coeficiente de determinación es: 0.008717058309720471\n",
      "El coeficiente de correlación es: 0.09336518788992218\n"
     ]
    }
   ],
   "source": [
    "#Calculamos el coeficiente de determinación del modelo\n",
    "R2_Modelo2 = r2_score(y,y_pred11)\n",
    "print('El coeficiente de determinación es:',R2_Modelo2)\n",
    "#Calculamos el coefieciente de correlación del modelo\n",
    "R = np.sqrt(R2_Modelo2)\n",
    "print('El coeficiente de correlación es:',R)"
   ]
  },
  {
   "cell_type": "markdown",
   "metadata": {},
   "source": [
    "**MODELO 2**"
   ]
  },
  {
   "cell_type": "code",
   "execution_count": 290,
   "metadata": {},
   "outputs": [],
   "source": [
    "def funcion_logaritmica(x, a, b):\n",
    "    return a * np.log(x) + b"
   ]
  },
  {
   "cell_type": "code",
   "execution_count": 299,
   "metadata": {},
   "outputs": [
    {
     "data": {
      "text/plain": [
       "array([ 1.1522929 , 78.14804678])"
      ]
     },
     "execution_count": 299,
     "metadata": {},
     "output_type": "execute_result"
    }
   ],
   "source": [
    "#Ajustamos los parámetros de la función curve_fit\n",
    "parametros12, covs = curve_fit(funcion_logaritmica,df['accommodates'],df['price'])\n",
    "parametros12"
   ]
  },
  {
   "cell_type": "code",
   "execution_count": 300,
   "metadata": {},
   "outputs": [
    {
     "data": {
      "text/html": [
       "<div>\n",
       "<style scoped>\n",
       "    .dataframe tbody tr th:only-of-type {\n",
       "        vertical-align: middle;\n",
       "    }\n",
       "\n",
       "    .dataframe tbody tr th {\n",
       "        vertical-align: top;\n",
       "    }\n",
       "\n",
       "    .dataframe thead th {\n",
       "        text-align: right;\n",
       "    }\n",
       "</style>\n",
       "<table border=\"1\" class=\"dataframe\">\n",
       "  <thead>\n",
       "    <tr style=\"text-align: right;\">\n",
       "      <th></th>\n",
       "      <th>accommodates</th>\n",
       "    </tr>\n",
       "  </thead>\n",
       "  <tbody>\n",
       "    <tr>\n",
       "      <th>0</th>\n",
       "      <td>80.002591</td>\n",
       "    </tr>\n",
       "    <tr>\n",
       "      <th>1</th>\n",
       "      <td>79.745464</td>\n",
       "    </tr>\n",
       "    <tr>\n",
       "      <th>2</th>\n",
       "      <td>78.946755</td>\n",
       "    </tr>\n",
       "    <tr>\n",
       "      <th>3</th>\n",
       "      <td>78.946755</td>\n",
       "    </tr>\n",
       "    <tr>\n",
       "      <th>4</th>\n",
       "      <td>80.212678</td>\n",
       "    </tr>\n",
       "    <tr>\n",
       "      <th>...</th>\n",
       "      <td>...</td>\n",
       "    </tr>\n",
       "    <tr>\n",
       "      <th>9886</th>\n",
       "      <td>80.002591</td>\n",
       "    </tr>\n",
       "    <tr>\n",
       "      <th>9887</th>\n",
       "      <td>80.212678</td>\n",
       "    </tr>\n",
       "    <tr>\n",
       "      <th>9888</th>\n",
       "      <td>78.946755</td>\n",
       "    </tr>\n",
       "    <tr>\n",
       "      <th>9889</th>\n",
       "      <td>79.745464</td>\n",
       "    </tr>\n",
       "    <tr>\n",
       "      <th>9890</th>\n",
       "      <td>78.946755</td>\n",
       "    </tr>\n",
       "  </tbody>\n",
       "</table>\n",
       "<p>9891 rows × 1 columns</p>\n",
       "</div>"
      ],
      "text/plain": [
       "      accommodates\n",
       "0        80.002591\n",
       "1        79.745464\n",
       "2        78.946755\n",
       "3        78.946755\n",
       "4        80.212678\n",
       "...            ...\n",
       "9886     80.002591\n",
       "9887     80.212678\n",
       "9888     78.946755\n",
       "9889     79.745464\n",
       "9890     78.946755\n",
       "\n",
       "[9891 rows x 1 columns]"
      ]
     },
     "execution_count": 300,
     "metadata": {},
     "output_type": "execute_result"
    }
   ],
   "source": [
    "# Predicciones\n",
    "y_pred12 = funcion_logaritmica(x, *parametros12)\n",
    "#Calculamos las predicciones y reestructuramos el vector de predicciones\n",
    "y_pred12"
   ]
  },
  {
   "cell_type": "code",
   "execution_count": 303,
   "metadata": {},
   "outputs": [
    {
     "data": {
      "image/png": "[encoded data removed]",
      "text/plain": [
       "<Figure size 640x480 with 1 Axes>"
      ]
     },
     "metadata": {},
     "output_type": "display_data"
    }
   ],
   "source": [
    "#Graficamos las predicciones y los datos originales para realizar la comparación\n",
    "plt.plot(x, y, 'bo', label=\"y-original\")\n",
    "plt.plot(x, y_pred12, label=\"y-predecida con y=a * np.log(x) + b \")\n",
    "plt.xlabel('x')\n",
    "plt.ylabel('y')\n",
    "plt.legend(loc='best', fancybox=True, shadow=True)\n",
    "plt.grid(True)\n",
    "plt.show()"
   ]
  },
  {
   "cell_type": "code",
   "execution_count": 302,
   "metadata": {},
   "outputs": [
    {
     "name": "stdout",
     "output_type": "stream",
     "text": [
      "El coeficiente de determinación es: 0.00792425282284659\n",
      "El coeficiente de correlación es: 0.08901827240991925\n"
     ]
    }
   ],
   "source": [
    "#Calculamos el coeficiente de determinación del modelo\n",
    "R2_Modelo2 = r2_score(y,y_pred12)\n",
    "print('El coeficiente de determinación es:',R2_Modelo2)\n",
    "#Calculamos el coefieciente de correlación del modelo\n",
    "R = np.sqrt(R2_Modelo2)\n",
    "print('El coeficiente de correlación es:',R)"
   ]
  }
 ],
 "metadata": {
  "kernelspec": {
   "display_name": "Python 3",
   "language": "python",
   "name": "python3"
  },
  "language_info": {
   "codemirror_mode": {
    "name": "ipython",
    "version": 3
   },
   "file_extension": ".py",
   "mimetype": "text/x-python",
   "name": "python",
   "nbconvert_exporter": "python",
   "pygments_lexer": "ipython3",
   "version": "3.13.2"
  }
 },
 "nbformat": 4,
 "nbformat_minor": 2
}
